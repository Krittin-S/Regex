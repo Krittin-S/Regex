{
 "cells": [
  {
   "cell_type": "markdown",
   "metadata": {
    "id": "DzagwNEbkvEg",
    "nbpages": {
     "level": 2,
     "link": "[2.7.1 Model Development](https://jckantor.github.io/CBE30338/02.07-Fed-Batch-Bioreactor.html#2.7.1-Model-Development)",
     "section": "2.7.1 Model Development"
    }
   },
   "source": [
    "## Model Development\n",
    "\n",
    "Mass balances for a fed-batch bioreactor are given by\n",
    "\n",
    "$$\\begin{align*}\n",
    "\\frac{d(XV)}{dt} & = V r_g(X,S) \\\\\n",
    "\\frac{d(PV)}{dt} & = V r_P(X,S) \\\\\n",
    "\\frac{d(SV)}{dt} & = F S_f - \\frac{1}{Y_{X/S}}V r_g(X,S)\n",
    "\\end{align*}$$\n",
    "\n",
    "where $X$ is cell concentration, $P$ is product concentration, and $S$ is substrate concentration, all given in units of grams/liter. The reactor is fed with fresh substrate at concentration $S_f$ and flowrate $F(t)$ in liters per hour. The volume (in liters) is therefore changing \n",
    "\n",
    "$$\\frac{dV}{dt} = F(t)$$\n",
    "\n",
    "Rate $r_g(X,S)$ is the production of fresh cell biomass in units of grams/liter/hr. The cell specific growth is expressed as\n",
    "\n",
    "$$r_g(X,S) = \\mu(S)X$$\n",
    "\n",
    "where $\\mu(S)$ is the cell specific growth rate. In the Monod model, the specific growth rate is a function of substrate concentration given by\n",
    "\n",
    "$$\\mu(S) = \\mu_{max}\\frac{S}{K_S + S}$$\n",
    "\n",
    "where $\\mu_{max}$ is the maximum specific growth rate, and $K_S$ is the half saturation constant which is the value of $S$ for which $\\mu = \\frac{1}{2}\\mu_{max}$.\n",
    "\n",
    "For this model, the product is assumed to be a by-product of cell growth\n",
    "\n",
    "$$r_P(X,S) = Y_{P/X}r_g(X,S)$$\n",
    "\n",
    "where $Y_{P/X}$ is the product yield coefficient defined as\n",
    "\n",
    "$$Y_{P/X} = \\frac{\\mbox{mass of product formed}}{\\mbox{mass of new cells formed}}$$\n",
    "\n",
    "The model further assumes that substrate is consumed is proportion to the mass of new cells formed where $Y_{X/S}$ is the yield coefficient for new cells\n",
    "\n",
    "$$Y_{P/X} = \\frac{\\mbox{mass of new cells formed}}{\\mbox{mass of substrate consumed}}$$"
   ]
  },
  {
   "cell_type": "markdown",
   "metadata": {
    "id": "wFJ7dgt9kvEh",
    "nbpages": {
     "level": 3,
     "link": "[2.7.1.1 Dilution Effect](https://jckantor.github.io/CBE30338/02.07-Fed-Batch-Bioreactor.html#2.7.1.1-Dilution-Effect)",
     "section": "2.7.1.1 Dilution Effect"
    }
   },
   "source": [
    "### Dilution Effect\n",
    "\n",
    "One aspect of the fed-batch model is that volume is not constant, therefore the cell, product, and substrate concentrations are subject to a dilution effect.  Mathematically, the chain rule of differential calculus provides a means to recast the state of model in terms of the intensive concentration variables $X$, $P$, and $S$, and extensive volume $V$.\n",
    "\n",
    "$$\\begin{align*}\n",
    "\\frac{d(XV)}{dt} & = V\\frac{dX}{dt} + X\\frac{dV}{dt} = V\\frac{dX}{dt} + F(t)X \\\\\n",
    "\\frac{d(PV)}{dt} & = V\\frac{dP}{dt} + P\\frac{dV}{dt} = V\\frac{dP}{dt} + F(t)P \\\\\n",
    "\\frac{d(SV)}{dt} & = V\\frac{dS}{dt} + S\\frac{dV}{dt} = V\\frac{dS}{dt} + F(t)S\n",
    "\\end{align*}$$\n",
    "\n",
    "Rearranging and substituting into the mass balances gives\n",
    "\n",
    "$$\\begin{align*}\n",
    "\\frac{dX}{dt} & = - \\frac{F(t)}{V}X + r_g(X,S)  \\\\\n",
    "\\frac{dP}{dt} & = - \\frac{F(t)}{V}P + r_P(X,S) \\\\\n",
    "\\frac{dS}{dt} & = \\frac{F(t)}{V}(S_f - S) - \\frac{1}{Y_{X/S}}r_g(X,S) \\\\\n",
    "\\frac{dV}{dt} & = F(t)\n",
    "\\end{align*}$$"
   ]
  },
  {
   "cell_type": "markdown",
   "metadata": {
    "id": "pK5SJbz_kvEi",
    "nbpages": {
     "level": 2,
     "link": "[2.7.2 Python Implementation](https://jckantor.github.io/CBE30338/02.07-Fed-Batch-Bioreactor.html#2.7.2-Python-Implementation)",
     "section": "2.7.2 Python Implementation"
    }
   },
   "source": [
    "##  Python Implementation"
   ]
  },
  {
   "cell_type": "code",
   "execution_count": 15,
   "metadata": {
    "executionInfo": {
     "elapsed": 3,
     "status": "ok",
     "timestamp": 1626842732431,
     "user": {
      "displayName": "Chanapol Tantakosol",
      "photoUrl": "",
      "userId": "18038660326074814068"
     },
     "user_tz": -420
    },
    "id": "8I0hVtnDnlUM"
   },
   "outputs": [],
   "source": [
    " %matplotlib inline\n",
    " \n",
    "import numpy as np\n",
    "import matplotlib.pyplot as plt\n",
    "from scipy.integrate import odeint\n",
    "import math\n",
    " \n",
    " \n",
    "# parameter values\n",
    " \n",
    "mumax = 0.6      # 1/hour ค่าจำเพาะการโต\n",
    "Ks = 0.8         # g/liter ค่าจำเพาะการกิน\n",
    "Yxs = 0.6         # g/g ค่าการเปลี่ยนซับสเตรท 1 g เป็น เซลล์\n",
    "Ypx = 0.1        # g/g ค่าการเปลี่ยนเซลล์ 1 g เป็นโปรตีน\n",
    "Sf = 300.0         # g/liter ความเข้มข้นน้ำตาลที่ใช้ feed\n",
    "muset = 0.5  #1/hour\n",
    "Xi = 1        #g/Liter\n",
    "Vi = 3        #Liter\n",
    "W = Sf*Yxs    \n",
    " \n",
    " \n",
    "# inlet flowrate\n",
    "def F(t):\n",
    "    return muset*Xi*Vi*math.e**(muset*t)/W\n",
    " \n",
    "# reaction rates\n",
    "def mu(S):\n",
    "    return mumax*S/(Ks + S) \n",
    "def Rg(X,S):\n",
    "    return mu(S)*X\n",
    "    \n",
    "def Rp(X,S):\n",
    "    return Ypx*Rg(X,S) \n",
    "# differential equations\n",
    " \n",
    "def xdot(x,t):\n",
    "    X,P,S,V = x\n",
    "    dX = -F(t)*X/V + Rg(X,S)\n",
    "    dP = -F(t)*P/V + Rp(X,S)\n",
    "    dS = F(t)*(Sf-S)/V - Rg(X,S)/Yxs\n",
    "    dV = F(t)\n",
    "    return [dX,dP,dS,dV]"
   ]
  },
  {
   "cell_type": "markdown",
   "metadata": {
    "id": "IMxJBwI3kvEk",
    "nbpages": {
     "level": 2,
     "link": "[2.7.3 Simulation](https://jckantor.github.io/CBE30338/02.07-Fed-Batch-Bioreactor.html#2.7.3-Simulation)",
     "section": "2.7.3 Simulation"
    }
   },
   "source": [
    "## Simulation"
   ]
  },
  {
   "cell_type": "code",
   "execution_count": 16,
   "metadata": {
    "colab": {
     "base_uri": "https://localhost:8080/",
     "height": 1000
    },
    "executionInfo": {
     "elapsed": 433,
     "status": "ok",
     "timestamp": 1626842736610,
     "user": {
      "displayName": "Chanapol Tantakosol",
      "photoUrl": "",
      "userId": "18038660326074814068"
     },
     "user_tz": -420
    },
    "id": "ptHLFruLkvEk",
    "nbpages": {
     "level": 2,
     "link": "[2.7.3 Simulation](https://jckantor.github.io/CBE30338/02.07-Fed-Batch-Bioreactor.html#2.7.3-Simulation)",
     "section": "2.7.3 Simulation"
    },
    "outputId": "bbd6f1b8-9d5c-4178-8983-942e3578fde9"
   },
   "outputs": [
    {
     "data": {
      "text/plain": [
       "array([[  0.        ,   1.        ],\n",
       "       [  0.40816327,   1.26390047],\n",
       "       [  0.81632653,   1.59691454],\n",
       "       [  1.2244898 ,   2.01683387],\n",
       "       [  1.63265306,   2.54584891],\n",
       "       [  2.04081633,   3.21152769],\n",
       "       [  2.44897959,   4.04794294],\n",
       "       [  2.85714286,   5.09691816],\n",
       "       [  3.26530612,   6.40930815],\n",
       "       [  3.67346939,   8.04611628],\n",
       "       [  4.08163265,  10.07900927],\n",
       "       [  4.48979592,  12.58922843],\n",
       "       [  4.89795918,  15.66238411],\n",
       "       [  5.30612245,  19.37178231],\n",
       "       [  5.71428571,  23.72369681],\n",
       "       [  6.12244898,  28.45535868],\n",
       "       [  6.53061224,  32.76077798],\n",
       "       [  6.93877551,  36.87459588],\n",
       "       [  7.34693878,  41.51101555],\n",
       "       [  7.75510204,  46.79357796],\n",
       "       [  8.16326531,  52.74096011],\n",
       "       [  8.57142857,  59.33935695],\n",
       "       [  8.97959184,  66.54143845],\n",
       "       [  9.3877551 ,  74.2635798 ],\n",
       "       [  9.79591837,  82.38672666],\n",
       "       [ 10.20408163,  90.76190836],\n",
       "       [ 10.6122449 ,  99.22024845],\n",
       "       [ 11.02040816, 107.58619922],\n",
       "       [ 11.42857143, 115.69189427],\n",
       "       [ 11.83673469, 123.39017382],\n",
       "       [ 12.24489796, 130.56423048],\n",
       "       [ 12.65306122, 137.13272759],\n",
       "       [ 13.06122449, 143.05032256],\n",
       "       [ 13.46938776, 148.30441762],\n",
       "       [ 13.87755102, 152.90944871],\n",
       "       [ 14.28571429, 156.90008329],\n",
       "       [ 14.69387755, 160.32446468],\n",
       "       [ 15.10204082, 163.23825206],\n",
       "       [ 15.51020408, 165.6998355 ],\n",
       "       [ 15.91836735, 167.76681206],\n",
       "       [ 16.32653061, 169.49361601],\n",
       "       [ 16.73469388, 170.93009983],\n",
       "       [ 17.14285714, 172.12084676],\n",
       "       [ 17.55102041, 173.10499842],\n",
       "       [ 17.95918367, 173.91642581],\n",
       "       [ 18.36734694, 174.58410507],\n",
       "       [ 18.7755102 , 175.13259711],\n",
       "       [ 19.18367347, 175.58256856],\n",
       "       [ 19.59183673, 175.95130527],\n",
       "       [ 20.        , 176.25319803]])"
      ]
     },
     "execution_count": 16,
     "metadata": {},
     "output_type": "execute_result"
    },
    {
     "data": {
      "image/png": "[encoded data removed]",
      "text/plain": [
       "<Figure size 432x288 with 1 Axes>"
      ]
     },
     "metadata": {
      "needs_background": "light"
     },
     "output_type": "display_data"
    }
   ],
   "source": [
    "IC = [1, 0.0, 20, 3.0]\n",
    " \n",
    "t = np.linspace(0,20)\n",
    "sol = odeint(xdot,IC,t)\n",
    "X,P,S,V= sol.transpose()\n",
    " \n",
    "plt.plot(t,X)\n",
    "plt.plot(t,P)\n",
    "plt.plot(t,S)\n",
    "plt.plot(t,V)\n",
    " \n",
    "plt.xlabel('Time [hr]')\n",
    "plt.ylabel('Concentration [g/liter]')\n",
    "plt.legend(['Cell Conc.',\n",
    "            'Product Conc.',\n",
    "            'Substrate Conc.',\n",
    "            'Volume [liter]'])\n",
    "ax = plt.gca()  # get axis handle\n",
    "line = ax.lines[0] # 0;Cell, 1;Product, 2;Substrate, 3;Volume\n",
    "line.get_xdata()\n",
    "line.get_ydata()\n",
    "line.get_xydata()"
   ]
  },
  {
   "cell_type": "code",
   "execution_count": 17,
   "metadata": {},
   "outputs": [
    {
     "name": "stdout",
     "output_type": "stream",
     "text": [
      "[[1.00000000e+00 0.00000000e+00 2.00000000e+01 3.00000000e+00]\n",
      " [1.26390047e+00 2.65156655e-02 1.99098049e+01 3.00377330e+00]\n",
      " [1.59691454e+00 5.99707014e-02 1.97823808e+01 3.00840088e+00]\n",
      " [2.01683387e+00 1.02150400e-01 1.96051297e+01 3.01407613e+00]\n",
      " [2.54584891e+00 1.55281216e-01 1.93616908e+01 3.02103624e+00]\n",
      " [3.21152769e+00 2.22128885e-01 1.90309746e+01 3.02957212e+00]\n",
      " [4.04794294e+00 3.06111398e-01 1.85860346e+01 3.04004050e+00]\n",
      " [5.09691816e+00 4.11423915e-01 1.79928131e+01 3.05287890e+00]\n",
      " [6.40930815e+00 5.43167123e-01 1.72088780e+01 3.06862389e+00]\n",
      " [8.04611628e+00 7.07459277e-01 1.61824309e+01 3.08793353e+00]\n",
      " [1.00790093e+01 9.11487966e-01 1.48522423e+01 3.11161483e+00]\n",
      " [1.25892284e+01 1.16340144e+00 1.31500603e+01 3.14065754e+00]\n",
      " [1.56623841e+01 1.47178816e+00 1.10095075e+01 3.17627547e+00]\n",
      " [1.93717823e+01 1.84400929e+00 8.39348129e+00 3.21995723e+00]\n",
      " [2.37236968e+01 2.28072545e+00 5.38406146e+00 3.27352847e+00]\n",
      " [2.84553587e+01 2.75569475e+00 2.51661495e+00 3.33922814e+00]\n",
      " [3.27607780e+01 3.18835342e+00 1.23252832e+00 3.41980211e+00]\n",
      " [3.68745959e+01 3.60219884e+00 1.23325224e+00 3.51861788e+00]\n",
      " [4.15110156e+01 4.06867957e+00 1.40710344e+00 3.63980538e+00]\n",
      " [4.67935780e+01 4.60016931e+00 1.60274821e+00 3.78842951e+00]\n",
      " [5.27409601e+01 5.19854262e+00 1.80812218e+00 3.97070188e+00]\n",
      " [5.93393570e+01 5.86240904e+00 2.01853933e+00 4.19424041e+00]\n",
      " [6.65414384e+01 6.58700553e+00 2.22930377e+00 4.46838768e+00]\n",
      " [7.42635798e+01 7.36391784e+00 2.43563555e+00 4.80460152e+00]\n",
      " [8.23867267e+01 8.18116762e+00 2.63307509e+00 5.21693355e+00]\n",
      " [9.07619084e+01 9.02376726e+00 2.81787781e+00 5.72261670e+00]\n",
      " [9.92202485e+01 9.87472701e+00 2.98728805e+00 6.34278568e+00]\n",
      " [1.07586199e+02 1.07163864e+01 3.13965574e+00 7.10335988e+00]\n",
      " [1.15691894e+02 1.15318580e+01 3.27438949e+00 8.03612679e+00]\n",
      " [1.23390174e+02 1.23063379e+01 3.39178930e+00 9.18007052e+00]\n",
      " [1.30564230e+02 1.30280757e+01 3.49281664e+00 1.05830011e+01]\n",
      " [1.37132728e+02 1.36888896e+01 3.57885719e+00 1.23035528e+01]\n",
      " [1.43050323e+02 1.42842186e+01 3.65151369e+00 1.44136343e+01]\n",
      " [1.48304418e+02 1.48127962e+01 3.71244692e+00 1.70014347e+01]\n",
      " [1.52909449e+02 1.52760751e+01 3.76326614e+00 2.01751082e+01]\n",
      " [1.56900083e+02 1.56775433e+01 3.80546187e+00 2.40672960e+01]\n",
      " [1.60324465e+02 1.60220445e+01 3.84037327e+00 2.88406683e+01]\n",
      " [1.63238252e+02 1.63151784e+01 3.86917564e+00 3.46947240e+01]\n",
      " [1.65699836e+02 1.65628192e+01 3.89288422e+00 4.18741278e+01]\n",
      " [1.67766812e+02 1.67707616e+01 3.91236535e+00 5.06789356e+01]\n",
      " [1.69493616e+02 1.69444817e+01 3.92834837e+00 6.14771364e+01]\n",
      " [1.70930100e+02 1.70889950e+01 3.94144613e+00 7.47200313e+01]\n",
      " [1.72120847e+02 1.72087866e+01 3.95216886e+00 9.09610955e+01]\n",
      " [1.73104998e+02 1.73077942e+01 3.96094109e+00 1.10879109e+02]\n",
      " [1.73916426e+02 1.73894254e+01 3.96811385e+00 1.35306523e+02]\n",
      " [1.74584105e+02 1.74565952e+01 3.97397490e+00 1.65264263e+02]\n",
      " [1.75132597e+02 1.75117746e+01 3.97876225e+00 2.02004383e+02]\n",
      " [1.75582569e+02 1.75570426e+01 3.98267087e+00 2.47062404e+02]\n",
      " [1.75951305e+02 1.75941382e+01 3.98586233e+00 3.02321483e+02]\n",
      " [1.76253198e+02 1.76245092e+01 3.98846741e+00 3.70091117e+02]]\n"
     ]
    }
   ],
   "source": [
    "print(sol)"
   ]
  },
  {
   "cell_type": "code",
   "execution_count": 18,
   "metadata": {
    "id": "EAsPT_5QkvEo",
    "nbpages": {
     "level": 2,
     "link": "[2.7.3 Simulation](https://jckantor.github.io/CBE30338/02.07-Fed-Batch-Bioreactor.html#2.7.3-Simulation)",
     "section": "2.7.3 Simulation"
    }
   },
   "outputs": [
    {
     "name": "stdout",
     "output_type": "stream",
     "text": [
      "[ 0.          0.40816327  0.81632653  1.2244898   1.63265306  2.04081633\n",
      "  2.44897959  2.85714286  3.26530612  3.67346939  4.08163265  4.48979592\n",
      "  4.89795918  5.30612245  5.71428571  6.12244898  6.53061224  6.93877551\n",
      "  7.34693878  7.75510204  8.16326531  8.57142857  8.97959184  9.3877551\n",
      "  9.79591837 10.20408163 10.6122449  11.02040816 11.42857143 11.83673469\n",
      " 12.24489796 12.65306122 13.06122449 13.46938776 13.87755102 14.28571429\n",
      " 14.69387755 15.10204082 15.51020408 15.91836735 16.32653061 16.73469388\n",
      " 17.14285714 17.55102041 17.95918367 18.36734694 18.7755102  19.18367347\n",
      " 19.59183673 20.        ]\n"
     ]
    }
   ],
   "source": [
    "print(t)"
   ]
  },
  {
   "cell_type": "code",
   "execution_count": 24,
   "metadata": {},
   "outputs": [
    {
     "name": "stdout",
     "output_type": "stream",
     "text": [
      "                 Cell    Product  Substrate      Volume\n",
      "0.000000     1.000000   0.000000  20.000000    3.000000\n",
      "0.408163     1.263900   0.026516  19.909805    3.003773\n",
      "0.816327     1.596915   0.059971  19.782381    3.008401\n",
      "1.224490     2.016834   0.102150  19.605130    3.014076\n",
      "1.632653     2.545849   0.155281  19.361691    3.021036\n",
      "2.040816     3.211528   0.222129  19.030975    3.029572\n",
      "2.448980     4.047943   0.306111  18.586035    3.040040\n",
      "2.857143     5.096918   0.411424  17.992813    3.052879\n",
      "3.265306     6.409308   0.543167  17.208878    3.068624\n",
      "3.673469     8.046116   0.707459  16.182431    3.087934\n",
      "4.081633    10.079009   0.911488  14.852242    3.111615\n",
      "4.489796    12.589228   1.163401  13.150060    3.140658\n",
      "4.897959    15.662384   1.471788  11.009507    3.176275\n",
      "5.306122    19.371782   1.844009   8.393481    3.219957\n",
      "5.714286    23.723697   2.280725   5.384061    3.273528\n",
      "6.122449    28.455359   2.755695   2.516615    3.339228\n",
      "6.530612    32.760778   3.188353   1.232528    3.419802\n",
      "6.938776    36.874596   3.602199   1.233252    3.518618\n",
      "7.346939    41.511016   4.068680   1.407103    3.639805\n",
      "7.755102    46.793578   4.600169   1.602748    3.788430\n",
      "8.163265    52.740960   5.198543   1.808122    3.970702\n",
      "8.571429    59.339357   5.862409   2.018539    4.194240\n",
      "8.979592    66.541438   6.587006   2.229304    4.468388\n",
      "9.387755    74.263580   7.363918   2.435636    4.804602\n",
      "9.795918    82.386727   8.181168   2.633075    5.216934\n",
      "10.204082   90.761908   9.023767   2.817878    5.722617\n",
      "10.612245   99.220248   9.874727   2.987288    6.342786\n",
      "11.020408  107.586199  10.716386   3.139656    7.103360\n",
      "11.428571  115.691894  11.531858   3.274389    8.036127\n",
      "11.836735  123.390174  12.306338   3.391789    9.180071\n",
      "12.244898  130.564230  13.028076   3.492817   10.583001\n",
      "12.653061  137.132728  13.688890   3.578857   12.303553\n",
      "13.061224  143.050323  14.284219   3.651514   14.413634\n",
      "13.469388  148.304418  14.812796   3.712447   17.001435\n",
      "13.877551  152.909449  15.276075   3.763266   20.175108\n",
      "14.285714  156.900083  15.677543   3.805462   24.067296\n",
      "14.693878  160.324465  16.022044   3.840373   28.840668\n",
      "15.102041  163.238252  16.315178   3.869176   34.694724\n",
      "15.510204  165.699836  16.562819   3.892884   41.874128\n",
      "15.918367  167.766812  16.770762   3.912365   50.678936\n",
      "16.326531  169.493616  16.944482   3.928348   61.477136\n",
      "16.734694  170.930100  17.088995   3.941446   74.720031\n",
      "17.142857  172.120847  17.208787   3.952169   90.961096\n",
      "17.551020  173.104998  17.307794   3.960941  110.879109\n",
      "17.959184  173.916426  17.389425   3.968114  135.306523\n",
      "18.367347  174.584105  17.456595   3.973975  165.264263\n",
      "18.775510  175.132597  17.511775   3.978762  202.004383\n",
      "19.183673  175.582569  17.557043   3.982671  247.062404\n",
      "19.591837  175.951305  17.594138   3.985862  302.321483\n",
      "20.000000  176.253198  17.624509   3.988467  370.091117\n"
     ]
    }
   ],
   "source": [
    "import pandas as pd\n",
    "df= pd.DataFrame(sol, index = t, columns = ['Cell', 'Product', 'Substrate', 'Volume'])\n",
    "print (df)"
   ]
  },
  {
   "cell_type": "code",
   "execution_count": 20,
   "metadata": {},
   "outputs": [
    {
     "name": "stdout",
     "output_type": "stream",
     "text": [
      "                 Cell    Product  Substrate      Volume\n",
      "0.000000     1.000000   0.000000  20.000000    3.000000\n",
      "0.408163     1.263900   0.026516  19.909805    3.003773\n",
      "0.816327     1.596915   0.059971  19.782381    3.008401\n",
      "1.224490     2.016834   0.102150  19.605130    3.014076\n",
      "1.632653     2.545849   0.155281  19.361691    3.021036\n",
      "2.040816     3.211528   0.222129  19.030975    3.029572\n",
      "2.448980     4.047943   0.306111  18.586035    3.040040\n",
      "2.857143     5.096918   0.411424  17.992813    3.052879\n",
      "3.265306     6.409308   0.543167  17.208878    3.068624\n",
      "3.673469     8.046116   0.707459  16.182431    3.087934\n",
      "4.081633    10.079009   0.911488  14.852242    3.111615\n",
      "4.489796    12.589228   1.163401  13.150060    3.140658\n",
      "4.897959    15.662384   1.471788  11.009507    3.176275\n",
      "5.306122    19.371782   1.844009   8.393481    3.219957\n",
      "5.714286    23.723697   2.280725   5.384061    3.273528\n",
      "6.122449    28.455359   2.755695   2.516615    3.339228\n",
      "6.530612    32.760778   3.188353   1.232528    3.419802\n",
      "6.938776    36.874596   3.602199   1.233252    3.518618\n",
      "7.346939    41.511016   4.068680   1.407103    3.639805\n",
      "7.755102    46.793578   4.600169   1.602748    3.788430\n",
      "8.163265    52.740960   5.198543   1.808122    3.970702\n",
      "8.571429    59.339357   5.862409   2.018539    4.194240\n",
      "8.979592    66.541438   6.587006   2.229304    4.468388\n",
      "9.387755    74.263580   7.363918   2.435636    4.804602\n",
      "9.795918    82.386727   8.181168   2.633075    5.216934\n",
      "10.204082   90.761908   9.023767   2.817878    5.722617\n",
      "10.612245   99.220248   9.874727   2.987288    6.342786\n",
      "11.020408  107.586199  10.716386   3.139656    7.103360\n",
      "11.428571  115.691894  11.531858   3.274389    8.036127\n",
      "11.836735  123.390174  12.306338   3.391789    9.180071\n",
      "12.244898  130.564230  13.028076   3.492817   10.583001\n",
      "12.653061  137.132728  13.688890   3.578857   12.303553\n",
      "13.061224  143.050323  14.284219   3.651514   14.413634\n",
      "13.469388  148.304418  14.812796   3.712447   17.001435\n",
      "13.877551  152.909449  15.276075   3.763266   20.175108\n",
      "14.285714  156.900083  15.677543   3.805462   24.067296\n",
      "14.693878  160.324465  16.022044   3.840373   28.840668\n",
      "15.102041  163.238252  16.315178   3.869176   34.694724\n",
      "15.510204  165.699836  16.562819   3.892884   41.874128\n",
      "15.918367  167.766812  16.770762   3.912365   50.678936\n",
      "16.326531  169.493616  16.944482   3.928348   61.477136\n",
      "16.734694  170.930100  17.088995   3.941446   74.720031\n",
      "17.142857  172.120847  17.208787   3.952169   90.961096\n",
      "17.551020  173.104998  17.307794   3.960941  110.879109\n",
      "17.959184  173.916426  17.389425   3.968114  135.306523\n",
      "18.367347  174.584105  17.456595   3.973975  165.264263\n",
      "18.775510  175.132597  17.511775   3.978762  202.004383\n",
      "19.183673  175.582569  17.557043   3.982671  247.062404\n",
      "19.591837  175.951305  17.594138   3.985862  302.321483\n",
      "20.000000  176.253198  17.624509   3.988467  370.091117\n"
     ]
    }
   ],
   "source": []
  },
  {
   "cell_type": "code",
   "execution_count": null,
   "metadata": {},
   "outputs": [],
   "source": []
  },
  {
   "cell_type": "code",
   "execution_count": null,
   "metadata": {},
   "outputs": [],
   "source": []
  },
  {
   "cell_type": "code",
   "execution_count": null,
   "metadata": {},
   "outputs": [],
   "source": []
  }
 ],
 "metadata": {
  "colab": {
   "collapsed_sections": [],
   "name": "Fed_Batch_Bioreactor_2.ipynb.txt",
   "provenance": []
  },
  "kernelspec": {
   "display_name": "Python 3",
   "language": "python",
   "name": "python3"
  },
  "language_info": {
   "codemirror_mode": {
    "name": "ipython",
    "version": 3
   },
   "file_extension": ".py",
   "mimetype": "text/x-python",
   "name": "python",
   "nbconvert_exporter": "python",
   "pygments_lexer": "ipython3",
   "version": "3.7.4"
  }
 },
 "nbformat": 4,
 "nbformat_minor": 1
}
